{
 "cells": [
  {
   "cell_type": "code",
   "execution_count": 3,
   "metadata": {},
   "outputs": [
    {
     "name": "stdout",
     "output_type": "stream",
     "text": [
      "Hello World\n"
     ]
    }
   ],
   "source": [
    "print(\"Hello World\")"
   ]
  },
  {
   "cell_type": "code",
   "execution_count": 9,
   "metadata": {},
   "outputs": [
    {
     "name": "stdout",
     "output_type": "stream",
     "text": [
      "Its not\n"
     ]
    }
   ],
   "source": [
    "if (5 > 8):\n",
    " print(\" 5 > 1\")\n",
    "else:\n",
    " print(\"Its not\")"
   ]
  },
  {
   "cell_type": "code",
   "execution_count": 27,
   "metadata": {},
   "outputs": [
    {
     "name": "stdout",
     "output_type": "stream",
     "text": [
      "<class 'int'>\n",
      "<class 'str'>\n",
      "<class 'float'>\n"
     ]
    }
   ],
   "source": [
    "x = 5\n",
    "y = \"roast\"\n",
    "z = 3.8\n",
    "print(type(x))\n",
    "print(type(y))\n",
    "print(type(z))"
   ]
  },
  {
   "cell_type": "code",
   "execution_count": 30,
   "metadata": {},
   "outputs": [
    {
     "name": "stdout",
     "output_type": "stream",
     "text": [
      "Orange\n",
      "Banana\n",
      "Apple\n"
     ]
    }
   ],
   "source": [
    "x , y , z = \"Orange\" , \"Banana\" , \"Apple\"\n",
    "print(x)\n",
    "print(y)\n",
    "print(z)"
   ]
  },
  {
   "cell_type": "code",
   "execution_count": 38,
   "metadata": {},
   "outputs": [
    {
     "name": "stdout",
     "output_type": "stream",
     "text": [
      "Banana\n",
      "orange\n",
      "Apple\n"
     ]
    }
   ],
   "source": [
    "fruits = [\"orange\" , \"Banana\" , \"Apple\"]\n",
    "y , x  , z =fruits\n",
    "print(x)\n",
    "print(y)\n",
    "print(z)"
   ]
  },
  {
   "cell_type": "code",
   "execution_count": 42,
   "metadata": {},
   "outputs": [
    {
     "name": "stdout",
     "output_type": "stream",
     "text": [
      "Hello World\n"
     ]
    }
   ],
   "source": [
    "print(\"Hello\",\"World\")"
   ]
  },
  {
   "cell_type": "code",
   "execution_count": 6,
   "metadata": {},
   "outputs": [
    {
     "name": "stdout",
     "output_type": "stream",
     "text": [
      "NaturyKotak\n",
      "How areAdil dalb\n"
     ]
    }
   ],
   "source": [
    "x = \"Adil dalb\"\n",
    "\n",
    "def myfunc() : \n",
    "    x = \"Kotak\"\n",
    "    print(\"Natury\" + x)\n",
    "\n",
    "myfunc()\n",
    "\n",
    "print(\"How are\" + x)"
   ]
  },
  {
   "cell_type": "code",
   "execution_count": 9,
   "metadata": {},
   "outputs": [
    {
     "name": "stdout",
     "output_type": "stream",
     "text": [
      "ggg fantastic\n",
      "Python is fantastic\n"
     ]
    }
   ],
   "source": [
    "x = \"awesome\"\n",
    "\n",
    "def myfunc():\n",
    "  global x\n",
    "  x = \"fantastic\"\n",
    "  print(\"ggg \" + x)\n",
    "\n",
    "myfunc()\n",
    "\n",
    "print(\"Python is \" +  x)"
   ]
  },
  {
   "cell_type": "code",
   "execution_count": 11,
   "metadata": {},
   "outputs": [
    {
     "name": "stdout",
     "output_type": "stream",
     "text": [
      "<class 'complex'>\n"
     ]
    }
   ],
   "source": [
    "x = 8j\n",
    "print(type(x))"
   ]
  },
  {
   "cell_type": "code",
   "execution_count": 23,
   "metadata": {},
   "outputs": [
    {
     "name": "stdout",
     "output_type": "stream",
     "text": [
      "90\n"
     ]
    }
   ],
   "source": [
    "r = range(10, 100, 10)\n",
    "print(r[8])"
   ]
  },
  {
   "cell_type": "code",
   "execution_count": 50,
   "metadata": {},
   "outputs": [
    {
     "name": "stdout",
     "output_type": "stream",
     "text": [
      "1\n"
     ]
    }
   ],
   "source": [
    "import random\n",
    "print(random.randrange(1 , 10))"
   ]
  },
  {
   "cell_type": "code",
   "execution_count": 56,
   "metadata": {},
   "outputs": [
    {
     "name": "stdout",
     "output_type": "stream",
     "text": [
      "10\n"
     ]
    }
   ],
   "source": [
    "a = \"I love you\"\n",
    "print(len(a))"
   ]
  },
  {
   "cell_type": "code",
   "execution_count": 58,
   "metadata": {},
   "outputs": [
    {
     "name": "stdout",
     "output_type": "stream",
     "text": [
      "True\n"
     ]
    }
   ],
   "source": [
    "txt = \"Im not a nigger,so im free\"\n",
    "print(\"free\" in txt)\n"
   ]
  },
  {
   "cell_type": "code",
   "execution_count": 68,
   "metadata": {},
   "outputs": [
    {
     "name": "stdout",
     "output_type": "stream",
     "text": [
      "o , Wor\n"
     ]
    }
   ],
   "source": [
    "b = \"Hello , World\"\n",
    "print(b[-9:-2])"
   ]
  },
  {
   "cell_type": "code",
   "execution_count": 70,
   "metadata": {},
   "outputs": [
    {
     "name": "stdout",
     "output_type": "stream",
     "text": [
      "HELLO , WORLD\n"
     ]
    }
   ],
   "source": [
    "txt = \"hello , world\"\n",
    "print(txt.upper())"
   ]
  },
  {
   "cell_type": "code",
   "execution_count": 71,
   "metadata": {},
   "outputs": [
    {
     "name": "stdout",
     "output_type": "stream",
     "text": [
      "aflkfalkfalmkaflmkfalmkaf\n"
     ]
    }
   ],
   "source": [
    "txt = \"AFLKFALKFALMKAFLMKFALMKAF\"\n",
    "print(txt.lower())"
   ]
  },
  {
   "cell_type": "code",
   "execution_count": 75,
   "metadata": {},
   "outputs": [
    {
     "name": "stdout",
     "output_type": "stream",
     "text": [
      "Im just funning\n"
     ]
    }
   ],
   "source": [
    "txt = \"  Im just funning   \"\n",
    "print(txt.strip())"
   ]
  },
  {
   "cell_type": "code",
   "execution_count": 76,
   "metadata": {},
   "outputs": [
    {
     "name": "stdout",
     "output_type": "stream",
     "text": [
      "Ahil lox\n"
     ]
    }
   ],
   "source": [
    "p = \"Adil lox\"\n",
    "print(p.replace('d' , 'h'))"
   ]
  },
  {
   "cell_type": "code",
   "execution_count": 85,
   "metadata": {},
   "outputs": [
    {
     "name": "stdout",
     "output_type": "stream",
     "text": [
      "['Adil  Bai', 'adam']\n"
     ]
    }
   ],
   "source": [
    "txt = \"Adil  Baikadam\"\n",
    "print(txt.split(\"k\"))"
   ]
  },
  {
   "cell_type": "code",
   "execution_count": 86,
   "metadata": {},
   "outputs": [
    {
     "name": "stdout",
     "output_type": "stream",
     "text": [
      "Adil losed 36 time\n",
      "<class 'str'>\n"
     ]
    }
   ],
   "source": [
    "loses = 36\n",
    "txt = f\"Adil losed {loses} time\"\n",
    "print(txt)\n",
    "print(type(txt))\n"
   ]
  },
  {
   "cell_type": "code",
   "execution_count": 7,
   "metadata": {},
   "outputs": [
    {
     "name": "stdout",
     "output_type": "stream",
     "text": [
      "True\n",
      "False\n",
      "False\n",
      "False\n"
     ]
    }
   ],
   "source": [
    "print(10 > 9)\n",
    "print(10 == 9)\n",
    "print(10 < 9)\n",
    "print(\"Adil\" == \"adil\")"
   ]
  },
  {
   "cell_type": "code",
   "execution_count": 8,
   "metadata": {},
   "outputs": [
    {
     "name": "stdout",
     "output_type": "stream",
     "text": [
      "b is not greater than a\n"
     ]
    }
   ],
   "source": [
    "a = 200\n",
    "b = 33\n",
    "\n",
    "if(a > b):\n",
    "    print(\"b is not greater than a\")\n",
    "else : \n",
    "    print(\"b is greater than a\")"
   ]
  },
  {
   "cell_type": "code",
   "execution_count": 14,
   "metadata": {},
   "outputs": [
    {
     "name": "stdout",
     "output_type": "stream",
     "text": [
      "True\n"
     ]
    }
   ],
   "source": [
    "class myclass():\n",
    "    def __len__(self):\n",
    "        return 9\n",
    "\n",
    "myobj = myclass()\n",
    "print(bool(myobj))"
   ]
  },
  {
   "cell_type": "code",
   "execution_count": 15,
   "metadata": {},
   "outputs": [
    {
     "name": "stdout",
     "output_type": "stream",
     "text": [
      "YES\n"
     ]
    }
   ],
   "source": [
    "def myfuction() : \n",
    "    return True\n",
    "if myfuction():\n",
    "    print(\"YES\")\n",
    "else:\n",
    "    print(\"NO\")"
   ]
  },
  {
   "cell_type": "code",
   "execution_count": 2,
   "metadata": {},
   "outputs": [
    {
     "name": "stdout",
     "output_type": "stream",
     "text": [
      "Результат : 8\n"
     ]
    }
   ],
   "source": [
    "print(\"Результат :\" , max(6,8,0,-4,8))"
   ]
  },
  {
   "cell_type": "code",
   "execution_count": 4,
   "metadata": {},
   "outputs": [
    {
     "name": "stdout",
     "output_type": "stream",
     "text": [
      "Hello 2.356\n"
     ]
    }
   ],
   "source": [
    "a = 2.356\n",
    "b = \"Hello\"\n",
    "c = True\n",
    "\n",
    "print(b +\" \" + str(a))"
   ]
  },
  {
   "cell_type": "code",
   "execution_count": 5,
   "metadata": {},
   "outputs": [
    {
     "name": "stdout",
     "output_type": "stream",
     "text": [
      "7\n",
      "3\n",
      "10\n",
      "2.5\n"
     ]
    }
   ],
   "source": [
    "num1 = int(input(\"Введите первое число :\"))\n",
    "num2 = int(input(\"Введите второе число:\"))\n",
    "\n",
    "print(num1 + num2)\n",
    "print(num1 - num2)\n",
    "print(num1 * num2)\n",
    "print(num1 / num2)"
   ]
  },
  {
   "cell_type": "code",
   "execution_count": 6,
   "metadata": {},
   "outputs": [
    {
     "name": "stdout",
     "output_type": "stream",
     "text": [
      "-5\n"
     ]
    }
   ],
   "source": [
    "num1 = [2, 8, 3, 2, 9, -5, 4, 9]\n",
    "\n",
    "minimum = num1[0]  \n",
    "\n",
    "for i in num1:\n",
    "    if i < minimum:\n",
    "        minimum = i\n",
    "\n",
    "print(minimum)\n"
   ]
  },
  {
   "cell_type": "code",
   "execution_count": 7,
   "metadata": {},
   "outputs": [
    {
     "name": "stdout",
     "output_type": "stream",
     "text": [
      "[9, -3, 6, 9]\n"
     ]
    }
   ],
   "source": [
    "num = [[9 , -3 , 6 , 9]]\n",
    "def myfunc(l):\n",
    "    minimum = l[0]\n",
    "    for el in l:\n",
    "        if el < minimum:\n",
    "            minimum = el\n",
    "    print(minimum)\n",
    "\n",
    "myfunc(num)"
   ]
  },
  {
   "cell_type": "code",
   "execution_count": 8,
   "metadata": {},
   "outputs": [
    {
     "name": "stdout",
     "output_type": "stream",
     "text": [
      "25\n"
     ]
    }
   ],
   "source": [
    "h = lambda x , y : x ** y\n",
    "print(h(5 , 2))"
   ]
  },
  {
   "cell_type": "code",
   "execution_count": 10,
   "metadata": {},
   "outputs": [
    {
     "name": "stdout",
     "output_type": "stream",
     "text": [
      "Barsik\n",
      "hoho\n"
     ]
    }
   ],
   "source": [
    "class Cat:\n",
    "   name = None\n",
    "   age = None\n",
    "   isHappy = None\n",
    "\n",
    "   def set_data(self , name , age , isHappy):\n",
    "      self.name = name\n",
    "      self.age = age\n",
    "      self.isHappy = isHappy\n",
    "\n",
    "Cat1 = Cat()\n",
    "Cat1.set_data(\"Barsik\" , 3 , True)\n",
    "\n",
    "\n",
    "Cat2 = Cat()\n",
    "Cat2.set_data(\"hoho\" , 4 , False)\n",
    "\n",
    "\n",
    "print(Cat1.name)\n",
    "print(Cat2.name)"
   ]
  },
  {
   "cell_type": "code",
   "execution_count": 3,
   "metadata": {},
   "outputs": [
    {
     "name": "stdout",
     "output_type": "stream",
     "text": [
      "10\n",
      "25\n"
     ]
    }
   ],
   "source": [
    "def app(a , b):\n",
    "    print(a+b)\n",
    "    print(a*b)\n",
    "\n",
    "a = int(input(\"Введите первое число:\"))\n",
    "b = int(input(\"Введите второе число:\"))\n",
    "app(a , b)"
   ]
  },
  {
   "cell_type": "code",
   "execution_count": 8,
   "metadata": {},
   "outputs": [
    {
     "name": "stdout",
     "output_type": "stream",
     "text": [
      "17\n"
     ]
    }
   ],
   "source": [
    "def summa(a,b):\n",
    "    res = a+ b\n",
    "    return res\n",
    "\n",
    "result = summa(8 , 9)\n",
    "print(result)"
   ]
  },
  {
   "cell_type": "code",
   "execution_count": 10,
   "metadata": {},
   "outputs": [
    {
     "name": "stdout",
     "output_type": "stream",
     "text": [
      "17\n"
     ]
    }
   ],
   "source": [
    "def summa(a,b):\n",
    "    res = a+ b\n",
    "    return res\n",
    "\n",
    "pidor = summa(8 , 9)\n",
    "print(pidor)"
   ]
  },
  {
   "cell_type": "code",
   "execution_count": 15,
   "metadata": {},
   "outputs": [
    {
     "name": "stdout",
     "output_type": "stream",
     "text": [
      "-9\n"
     ]
    }
   ],
   "source": [
    "def find_minimal(list):\n",
    "    minimal = list[0]\n",
    "    for element in list:\n",
    "        if element < minimal:\n",
    "          minimal = element\n",
    "\n",
    "    print(minimal)\n",
    "\n",
    "num = [5 , 6 , -9 , 0 , 9]\n",
    "\n",
    "find_minimal(num)\n"
   ]
  },
  {
   "cell_type": "code",
   "execution_count": 17,
   "metadata": {},
   "outputs": [
    {
     "name": "stdout",
     "output_type": "stream",
     "text": [
      "8.0\n"
     ]
    }
   ],
   "source": [
    "func = lambda x , y : x * y/2\n",
    "print(func(8 , 2))"
   ]
  },
  {
   "cell_type": "code",
   "execution_count": 20,
   "metadata": {},
   "outputs": [
    {
     "name": "stdout",
     "output_type": "stream",
     "text": [
      "Введите лучше число:\n",
      "Horosh\n",
      "13\n",
      "correct\n",
      "Horosh\n"
     ]
    }
   ],
   "source": [
    "x = 0\n",
    "while x == 0:\n",
    "    try:\n",
    "        x = int(input(\"Введите число:\"))\n",
    "        x+=8\n",
    "        print(x)\n",
    "    except ValueError :\n",
    "        print(\"Введите лучше число:\")\n",
    "    else : \n",
    "        print(\"correct\")\n",
    "    finally:\n",
    "        print(\"Horosh\")\n",
    "\n",
    "    \n",
    "\n",
    "    \n",
    "  "
   ]
  },
  {
   "cell_type": "code",
   "execution_count": 42,
   "metadata": {},
   "outputs": [
    {
     "name": "stdout",
     "output_type": "stream",
     "text": [
      "Baikadam age: 17 .Happy:\n",
      "Oner age: 21 .Happy:\n"
     ]
    }
   ],
   "source": [
    "class myclass:\n",
    "    name = None\n",
    "    age = None\n",
    "    isHappy = None\n",
    "\n",
    "    def __init__(self , name , age , isHappy):\n",
    "        self.name = name\n",
    "        self.age = age\n",
    "        self.isHappy = isHappy\n",
    "        self.my(name , age , isHappy)\n",
    "        self.get()\n",
    "       \n",
    "\n",
    "    def my(self , name , age , isHappy ):\n",
    "        self.name = name\n",
    "        self.age = age\n",
    "        self.isHappy = isHappy\n",
    "\n",
    "    def get(self):\n",
    "        print(self.name , \"age:\" , self.age , \".Happy:\")\n",
    "\n",
    "Man1 = myclass(\"Baikadam\" , 17 , True)\n",
    "Man1.my(\"Baikadam\" , 17 ,True )\n",
    "#Man1.get()\n",
    "Man2 = myclass(\"Oner\" , 21 , False)\n",
    "Man2.my(\"Oner\" , 21 , False)\n",
    "#Man2.get()\n",
    "\n"
   ]
  },
  {
   "cell_type": "code",
   "execution_count": 55,
   "metadata": {},
   "outputs": [
    {
     "name": "stdout",
     "output_type": "stream",
     "text": [
      "Year: 2002 . Floors: 5\n",
      "People: 100\n"
     ]
    }
   ],
   "source": [
    "class gal:\n",
    "\n",
    "    __year = None\n",
    "    __floors = None\n",
    "\n",
    "    def __init__(self , year , floors):\n",
    "        self.year = year\n",
    "        self.floors = floors\n",
    "\n",
    "    def get(self):\n",
    "        print(\"Year:\",self.year,\". Floors:\" , self.floors)\n",
    "\n",
    "\n",
    "class School(gal):\n",
    "    people = None\n",
    "    def __init__(self , people , year , floors):\n",
    "        super(School , self).__init__(year , floors)\n",
    "        self.people = people\n",
    "    def get(self):\n",
    "        super(School , self).get()\n",
    "        print(\"People:\" , self.people)\n",
    "    \n",
    "    \n",
    "    \n",
    "\n",
    "school = School(100 , 2002 , 5)\n",
    "school.get()\n"
   ]
  },
  {
   "cell_type": "code",
   "execution_count": null,
   "metadata": {},
   "outputs": [],
   "source": []
  },
  {
   "cell_type": "code",
   "execution_count": null,
   "metadata": {},
   "outputs": [],
   "source": []
  },
  {
   "cell_type": "code",
   "execution_count": null,
   "metadata": {},
   "outputs": [],
   "source": []
  },
  {
   "cell_type": "code",
   "execution_count": null,
   "metadata": {},
   "outputs": [],
   "source": []
  },
  {
   "cell_type": "code",
   "execution_count": null,
   "metadata": {},
   "outputs": [],
   "source": []
  }
 ],
 "metadata": {
  "kernelspec": {
   "display_name": "Python 3",
   "language": "python",
   "name": "python3"
  },
  "language_info": {
   "codemirror_mode": {
    "name": "ipython",
    "version": 3
   },
   "file_extension": ".py",
   "mimetype": "text/x-python",
   "name": "python",
   "nbconvert_exporter": "python",
   "pygments_lexer": "ipython3",
   "version": "3.13.1"
  }
 },
 "nbformat": 4,
 "nbformat_minor": 2
}
